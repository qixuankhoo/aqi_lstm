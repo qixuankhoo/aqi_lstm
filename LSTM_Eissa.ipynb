{
 "cells": [
  {
   "cell_type": "markdown",
   "id": "c0fb5ddc",
   "metadata": {
    "id": "c0fb5ddc"
   },
   "source": [
    "# RNN-LSTM model for time series data\n",
    "### 1. Import Python packages"
   ]
  },
  {
   "cell_type": "code",
   "execution_count": 1,
   "id": "2117c102",
   "metadata": {
    "id": "2117c102"
   },
   "outputs": [],
   "source": [
    "import datetime, os, math, torch\n",
    "import torch.nn as nn\n",
    "import pandas as pd\n",
    "from torch.utils.data import TensorDataset, DataLoader\n",
    "import torch.optim as optim # optimization algorithms\n",
    "import matplotlib.pyplot as plt\n",
    "from sklearn.preprocessing import MinMaxScaler"
   ]
  },
  {
   "cell_type": "markdown",
   "id": "2139ec86",
   "metadata": {
    "id": "2139ec86"
   },
   "source": [
    "### 2. Data Preprocessing\n",
    "- Data wrangling, train-val-test split (you may want to go through the learning resource on using Pandas)"
   ]
  },
  {
   "cell_type": "code",
   "execution_count": 2,
   "id": "1101b93f",
   "metadata": {
    "colab": {
     "base_uri": "https://localhost:8080/",
     "height": 389
    },
    "id": "1101b93f",
    "outputId": "72728774-aa87-4886-9464-d2e8897b6f05"
   },
   "outputs": [
    {
     "name": "stdout",
     "output_type": "stream",
     "text": [
      "        Date    AQI  Air particles Humidity  Temperature Location  AQI.1  \\\n",
      "0 2022-09-16  163.0         6942.0       75%         20C   Atrium   98.0   \n",
      "1 2022-09-23   38.0         1658.0       74%         19C   Atrium   48.0   \n",
      "2 2022-09-30   48.0         1290.0       71%         19C   Atrium   56.0   \n",
      "3 2022-10-07   53.0         1100.0       70%         19C   Atrium   56.0   \n",
      "4 2022-10-14   35.0         1528.0       71%         20C   Atrium   49.0   \n",
      "5 2022-10-21   40.0         1084.0       69%         20C   Atrium   32.0   \n",
      "6 2022-10-28  137.0         5500.0       74%         19C   Atrium  117.0   \n",
      "7 2022-11-04   85.0         2362.0       78%         19C   Atrium   65.0   \n",
      "8 2022-11-11    NaN            NaN       NaN         NaN      NaN    NaN   \n",
      "9 2022-11-18   38.0          794.0       70%         19C   Atrium   38.0   \n",
      "\n",
      "   Air Particles Humidity Location.1  \n",
      "0         4852.0      NaN      Music  \n",
      "1         1943.0      NaN      Music  \n",
      "2         1423.0      NaN      Music  \n",
      "3         1749.0      NaN      Music  \n",
      "4         1875.0      NaN      Music  \n",
      "5         1295.0      NaN      Music  \n",
      "6         5300.0      NaN      Music  \n",
      "7         2869.0      NaN      Music  \n",
      "8            NaN      NaN        NaN  \n",
      "9          952.0      NaN      Music  \n",
      "total rows: 39\n"
     ]
    }
   ],
   "source": [
    "filename = \"AirQuality22-23.csv\"\n",
    "df = pd.read_csv(os.getcwd()+\"/\"+filename) # 'df' stands for dataframe, a Pandas object\n",
    "\n",
    "# convert each date string into Python datetime object\n",
    "df['Date'] = df['Date'].apply(lambda x: datetime.datetime.strptime(x, '%m/%d/%y')) \n",
    "\n",
    "print(df.head(10)) # print the last few rows\n",
    "print(\"total rows: {}\".format(df.shape[0]))"
   ]
  },
  {
   "cell_type": "code",
   "execution_count": 3,
   "id": "6f4fb635",
   "metadata": {
    "id": "6f4fb635"
   },
   "outputs": [
    {
     "name": "stdout",
     "output_type": "stream",
     "text": [
      "[163.  38.  48.  53.  35.  40. 137.  85.  nan  38.  52.  46.  nan  nan\n",
      "  nan  nan  55.  62.  54.  78.  82.  28.  25.  36.  33.  25.  60.  25.\n",
      "  nan  nan  76.  83.  50.  nan  nan  nan  nan  nan  33.]\n"
     ]
    }
   ],
   "source": [
    "# Split dataset on a 70-30 ratio for training, validation and testing\n",
    "sample = df['AQI']\n",
    "values = sample.values\n",
    "print(values)"
   ]
  },
  {
   "cell_type": "code",
   "execution_count": 4,
   "id": "X1cJ4tOa9UZ_",
   "metadata": {
    "id": "X1cJ4tOa9UZ_"
   },
   "outputs": [
    {
     "name": "stdout",
     "output_type": "stream",
     "text": [
      "train_set: 0 rows \n",
      "test_set: 0 rows \n",
      "total rows: 0\n"
     ]
    }
   ],
   "source": [
    "# Alternative approach: use 2015 - 2020 as train years, 2021 as test year\n",
    "train_yrs = [2018, 2019, 2020]\n",
    "test_yrs = [2021]\n",
    "\n",
    "# for yr in train_yrs:\n",
    "#   train_set = df[df['Date'] > datetime.datetime(yr-1, 12, 31)]\n",
    "#   train_set = df[df['Date'] < datetime.datetime(yr+1, 1, 1)]\n",
    "\n",
    "train_set = df[df['Date'] > datetime.datetime(2017, 12, 31)]\n",
    "train_set = train_set[train_set['Date'] < datetime.datetime(2021, 1, 1)]\n",
    "train_set = train_set[train_set['Date'] != datetime.datetime(2020, 2, 29)] #exclude leap year\n",
    "\n",
    "test_set = df[df['Date'] > datetime.datetime(2020, 12, 31)]\n",
    "test_set = test_set[test_set['Date'] < datetime.datetime(2022, 1, 1)]\n",
    "# for yr in test_yrs:\n",
    "#   test_set = df[df['Date'] > datetime.datetime(yr-1, 12, 31)]\n",
    "#   test_set = df[df['Date'] < datetime.datetime(yr+1, 1, 1)]\n",
    "#   print(test_set.shape[0])\n",
    "\n",
    "print(\"train_set: {} rows \\ntest_set: {} rows \\ntotal rows: {}\".format(len(train_set), len(test_set),len(train_set)+len(test_set)))"
   ]
  },
  {
   "cell_type": "code",
   "execution_count": null,
   "id": "HpZ9V0If9mrM",
   "metadata": {
    "id": "HpZ9V0If9mrM"
   },
   "outputs": [],
   "source": []
  },
  {
   "cell_type": "code",
   "execution_count": 5,
   "id": "1409333e",
   "metadata": {
    "id": "1409333e"
   },
   "outputs": [
    {
     "data": {
      "text/plain": [
       "[<matplotlib.lines.Line2D at 0x17fbda0e0>]"
      ]
     },
     "execution_count": 5,
     "metadata": {},
     "output_type": "execute_result"
    },
    {
     "data": {
      "image/png": "[encoded data removed]",
      "text/plain": [
       "<Figure size 800x600 with 1 Axes>"
      ]
     },
     "metadata": {},
     "output_type": "display_data"
    }
   ],
   "source": [
    "# Visualize data\n",
    "fig, ax = plt.subplots(figsize=(8, 6))\n",
    "ax.plot([x for x in range(1,40)], values, c='blue')\n",
    "#ax.axvspan(val_set['Date'].tolist()[0], val_set['Date'].tolist()[val_set.shape[0]-1], color=\"orange\", alpha=0.3)\n",
    "#ax.axvspan(test_set['Date'].tolist()[0], test_set['Date'].tolist()[test_set.shape[0]-1], color=\"red\", alpha=0.3)"
   ]
  },
  {
   "cell_type": "code",
   "execution_count": 7,
   "id": "91453ece",
   "metadata": {
    "id": "91453ece"
   },
   "outputs": [
    {
     "name": "stdout",
     "output_type": "stream",
     "text": [
      "torch.Size([0]) torch.Size([0])\n",
      "torch.Size([0]) torch.Size([0])\n"
     ]
    }
   ],
   "source": [
    "def create_dataset(dataset, lookback):\n",
    "    \"\"\"Transform a time series into a prediction dataset\n",
    "\n",
    "    Args:\n",
    "        dataset: A numpy array of time series, first dimension is the time steps\n",
    "        lookback: Size of window for prediction\n",
    "    \"\"\"\n",
    "    X, y = [], []\n",
    "\n",
    "    for i in range(len(dataset)-lookback):\n",
    "        feature = dataset[i:i+lookback]\n",
    "        target = dataset[i+1:i+lookback+1]\n",
    "        X.append(feature)\n",
    "        y.append(target)\n",
    "\n",
    "    return torch.tensor(X), torch.tensor(y)\n",
    "\n",
    "\n",
    "lookback = 1\n",
    "X_train, y_train = create_dataset(train_set['AQI'].tolist(), lookback=lookback)\n",
    "#X_val, y_val = create_dataset(val_set['Flow (ML)'].tolist(), lookback=lookback)\n",
    "X_test, y_test = create_dataset(test_set['AQI'].tolist(), lookback=lookback)\n",
    "print(X_train.shape, y_train.shape)\n",
    "#print(X_val.shape, y_val.shape)\n",
    "print(X_test.shape, y_test.shape)"
   ]
  },
  {
   "cell_type": "markdown",
   "id": "ef2a6b61",
   "metadata": {
    "id": "ef2a6b61"
   },
   "source": [
    "### 3. Train and Validate RNN-LSTM Model\n",
    "- See learning material on building LSTM Models for more details"
   ]
  },
  {
   "cell_type": "code",
   "execution_count": 8,
   "id": "9b5c630e",
   "metadata": {
    "id": "9b5c630e"
   },
   "outputs": [],
   "source": [
    "class RNN_LSTM(nn.Module):\n",
    "    def __init__(self, input_size=1, hidden_size=50, num_layers=5, num_classes=1):\n",
    "        super().__init__()\n",
    "        self.hidden_size = hidden_size\n",
    "        self.num_layers = num_layers\n",
    "        self.lstm = nn.LSTM(input_size, hidden_size, num_layers, batch_first=True)\n",
    "        self.linear = nn.Linear(hidden_size, num_classes)\n",
    "\n",
    "    def forward(self, x):\n",
    "        x, _ = self.lstm(x)\n",
    "        x = self.linear(x)\n",
    "        return x"
   ]
  },
  {
   "cell_type": "code",
   "execution_count": 9,
   "id": "8297108b",
   "metadata": {
    "id": "8297108b"
   },
   "outputs": [
    {
     "ename": "ValueError",
     "evalue": "num_samples should be a positive integer value, but got num_samples=0",
     "output_type": "error",
     "traceback": [
      "\u001b[0;31m---------------------------------------------------------------------------\u001b[0m",
      "\u001b[0;31mValueError\u001b[0m                                Traceback (most recent call last)",
      "Cell \u001b[0;32mIn[9], line 4\u001b[0m\n\u001b[1;32m      2\u001b[0m optimizer \u001b[38;5;241m=\u001b[39m optim\u001b[38;5;241m.\u001b[39mAdam(model\u001b[38;5;241m.\u001b[39mparameters())\n\u001b[1;32m      3\u001b[0m loss_fn \u001b[38;5;241m=\u001b[39m nn\u001b[38;5;241m.\u001b[39mMSELoss()\n\u001b[0;32m----> 4\u001b[0m loader \u001b[38;5;241m=\u001b[39m \u001b[43mDataLoader\u001b[49m\u001b[43m(\u001b[49m\u001b[43mTensorDataset\u001b[49m\u001b[43m(\u001b[49m\u001b[43mX_train\u001b[49m\u001b[43m,\u001b[49m\u001b[43m \u001b[49m\u001b[43my_train\u001b[49m\u001b[43m)\u001b[49m\u001b[43m,\u001b[49m\u001b[43m \u001b[49m\u001b[43mshuffle\u001b[49m\u001b[38;5;241;43m=\u001b[39;49m\u001b[38;5;28;43;01mTrue\u001b[39;49;00m\u001b[43m,\u001b[49m\u001b[43m \u001b[49m\u001b[43mbatch_size\u001b[49m\u001b[38;5;241;43m=\u001b[39;49m\u001b[38;5;241;43m8\u001b[39;49m\u001b[43m)\u001b[49m\n\u001b[1;32m      6\u001b[0m n_epochs \u001b[38;5;241m=\u001b[39m \u001b[38;5;241m10000\u001b[39m\n\u001b[1;32m      7\u001b[0m \u001b[38;5;28;01mfor\u001b[39;00m epoch \u001b[38;5;129;01min\u001b[39;00m \u001b[38;5;28mrange\u001b[39m(n_epochs):\n",
      "File \u001b[0;32m~/mambaforge/lib/python3.10/site-packages/torch/utils/data/dataloader.py:351\u001b[0m, in \u001b[0;36mDataLoader.__init__\u001b[0;34m(self, dataset, batch_size, shuffle, sampler, batch_sampler, num_workers, collate_fn, pin_memory, drop_last, timeout, worker_init_fn, multiprocessing_context, generator, prefetch_factor, persistent_workers, pin_memory_device)\u001b[0m\n\u001b[1;32m    349\u001b[0m \u001b[38;5;28;01melse\u001b[39;00m:  \u001b[38;5;66;03m# map-style\u001b[39;00m\n\u001b[1;32m    350\u001b[0m     \u001b[38;5;28;01mif\u001b[39;00m shuffle:\n\u001b[0;32m--> 351\u001b[0m         sampler \u001b[38;5;241m=\u001b[39m \u001b[43mRandomSampler\u001b[49m\u001b[43m(\u001b[49m\u001b[43mdataset\u001b[49m\u001b[43m,\u001b[49m\u001b[43m \u001b[49m\u001b[43mgenerator\u001b[49m\u001b[38;5;241;43m=\u001b[39;49m\u001b[43mgenerator\u001b[49m\u001b[43m)\u001b[49m  \u001b[38;5;66;03m# type: ignore[arg-type]\u001b[39;00m\n\u001b[1;32m    352\u001b[0m     \u001b[38;5;28;01melse\u001b[39;00m:\n\u001b[1;32m    353\u001b[0m         sampler \u001b[38;5;241m=\u001b[39m SequentialSampler(dataset)  \u001b[38;5;66;03m# type: ignore[arg-type]\u001b[39;00m\n",
      "File \u001b[0;32m~/mambaforge/lib/python3.10/site-packages/torch/utils/data/sampler.py:107\u001b[0m, in \u001b[0;36mRandomSampler.__init__\u001b[0;34m(self, data_source, replacement, num_samples, generator)\u001b[0m\n\u001b[1;32m    103\u001b[0m     \u001b[38;5;28;01mraise\u001b[39;00m \u001b[38;5;167;01mTypeError\u001b[39;00m(\u001b[38;5;124m\"\u001b[39m\u001b[38;5;124mreplacement should be a boolean value, but got \u001b[39m\u001b[38;5;124m\"\u001b[39m\n\u001b[1;32m    104\u001b[0m                     \u001b[38;5;124m\"\u001b[39m\u001b[38;5;124mreplacement=\u001b[39m\u001b[38;5;132;01m{}\u001b[39;00m\u001b[38;5;124m\"\u001b[39m\u001b[38;5;241m.\u001b[39mformat(\u001b[38;5;28mself\u001b[39m\u001b[38;5;241m.\u001b[39mreplacement))\n\u001b[1;32m    106\u001b[0m \u001b[38;5;28;01mif\u001b[39;00m \u001b[38;5;129;01mnot\u001b[39;00m \u001b[38;5;28misinstance\u001b[39m(\u001b[38;5;28mself\u001b[39m\u001b[38;5;241m.\u001b[39mnum_samples, \u001b[38;5;28mint\u001b[39m) \u001b[38;5;129;01mor\u001b[39;00m \u001b[38;5;28mself\u001b[39m\u001b[38;5;241m.\u001b[39mnum_samples \u001b[38;5;241m<\u001b[39m\u001b[38;5;241m=\u001b[39m \u001b[38;5;241m0\u001b[39m:\n\u001b[0;32m--> 107\u001b[0m     \u001b[38;5;28;01mraise\u001b[39;00m \u001b[38;5;167;01mValueError\u001b[39;00m(\u001b[38;5;124m\"\u001b[39m\u001b[38;5;124mnum_samples should be a positive integer \u001b[39m\u001b[38;5;124m\"\u001b[39m\n\u001b[1;32m    108\u001b[0m                      \u001b[38;5;124m\"\u001b[39m\u001b[38;5;124mvalue, but got num_samples=\u001b[39m\u001b[38;5;132;01m{}\u001b[39;00m\u001b[38;5;124m\"\u001b[39m\u001b[38;5;241m.\u001b[39mformat(\u001b[38;5;28mself\u001b[39m\u001b[38;5;241m.\u001b[39mnum_samples))\n",
      "\u001b[0;31mValueError\u001b[0m: num_samples should be a positive integer value, but got num_samples=0"
     ]
    }
   ],
   "source": [
    "model = RNN_LSTM()\n",
    "optimizer = optim.Adam(model.parameters())\n",
    "loss_fn = nn.MSELoss()\n",
    "loader = DataLoader(TensorDataset(X_train, y_train), shuffle=True, batch_size=8)\n",
    "\n",
    "n_epochs = 10000\n",
    "for epoch in range(n_epochs):\n",
    "    model.train()\n",
    "    for X_batch, y_batch in loader:\n",
    "        y_pred = model(X_batch)\n",
    "        loss = loss_fn(y_pred, y_batch)\n",
    "        optimizer.zero_grad()\n",
    "        loss.backward()\n",
    "        optimizer.step()\n",
    "\n",
    "     #Validation\n",
    "    if epoch % 1000 != 0:\n",
    "      continue\n",
    "    model.eval()\n",
    "    with torch.no_grad():\n",
    "        y_pred = model(X_train)\n",
    "        train_rmse = math.sqrt(loss_fn(y_pred, y_train))\n",
    "        y_pred = model(X_test)\n",
    "        test_rmse = math.sqrt(loss_fn(y_pred, y_test))\n",
    "    print(\"Epoch %d: train RMSE %.4f, test RMSE %.4f\" % (epoch, train_rmse, test_rmse))"
   ]
  },
  {
   "cell_type": "code",
   "execution_count": null,
   "id": "7ec06b1c",
   "metadata": {
    "id": "7ec06b1c"
   },
   "outputs": [],
   "source": [
    "import numpy as np\n",
    "timeseries = df['Flow (ML)']\n",
    "with torch.no_grad():\n",
    "    # shift train predictions for plotting\n",
    "    train_plot = np.ones_like(timeseries) * np.nan\n",
    "    y_pred = model(X_train)\n",
    "    y_pred = y_pred[:, -1]\n",
    "    train_plot[lookback:train_set.shape[0]] = y_pred\n",
    "\n",
    "    # shift test predictions for plotting\n",
    "    test_plot = np.ones_like(timeseries) * np.nan\n",
    "    test_plot[train_set.shape[0]+lookback+1:len(timeseries)] = model(X_test)[:, -1]\n",
    "# plot\n",
    "\n",
    "lstm_out = [x for x in train_plot[:train_set.shape[0]]]\n",
    "temp = [x for x in test_plot[train_set.shape[0]+lookback+1:len(timeseries)]]\n",
    "\n",
    "fig, ax = plt.subplots(figsize=(8, 6))\n",
    "ax.plot(df['Date'].tolist(), df['Flow (ML)'].tolist(), c='blue')\n",
    "ax.plot(df['Date'].tolist(), lstm_out+temp+[0,0], c='red')\n",
    "# plt.plot(df['Flow (ML)'], c='b')\n",
    "#print(train_plot.)\n",
    "#plt.plot(test_plot, c='g')\n",
    "plt.show()"
   ]
  },
  {
   "cell_type": "code",
   "execution_count": null,
   "id": "Vb7BNBdMuPcq",
   "metadata": {
    "id": "Vb7BNBdMuPcq"
   },
   "outputs": [],
   "source": [
    "import numpy as np\n",
    "timeseries = df['Flow (ML)']\n",
    "with torch.no_grad():\n",
    "    # shift train predictions for plotting\n",
    "    train_plot = np.ones_like(timeseries) * np.nan\n",
    "    y_pred = model(X_train)\n",
    "    y_pred = y_pred[:, -1]\n",
    "    train_plot[lookback:train_set.shape[0]] = y_pred\n",
    "\n",
    "    # shift test predictions for plotting\n",
    "    test_plot = np.ones_like(timeseries) * np.nan\n",
    "    test_plot[train_set.shape[0]+lookback+1:len(timeseries)] = model(X_test)[:, -1]\n",
    "# plot\n",
    "\n",
    "lstm_out = [x for x in train_plot[:train_set.shape[0]]]\n",
    "temp = [x for x in test_plot[train_set.shape[0]+lookback+1:len(timeseries)]]\n",
    "\n",
    "fig, ax = plt.subplots(figsize=(8, 6))\n",
    "ax.plot(df['Date'].tolist(), df['Flow (ML)'].tolist(), c='blue')\n",
    "ax.plot(df['Date'].tolist(), lstm_out+temp+[0,0], c='red')\n",
    "# plt.plot(df['Flow (ML)'], c='b')\n",
    "#print(train_plot.)\n",
    "#plt.plot(test_plot, c='g')\n",
    "plt.show()"
   ]
  },
  {
   "cell_type": "code",
   "execution_count": null,
   "id": "Sck508MsuQ1E",
   "metadata": {
    "id": "Sck508MsuQ1E"
   },
   "outputs": [],
   "source": []
  }
 ],
 "metadata": {
  "colab": {
   "provenance": []
  },
  "kernelspec": {
   "display_name": "Python 3 (ipykernel)",
   "language": "python",
   "name": "python3"
  },
  "language_info": {
   "codemirror_mode": {
    "name": "ipython",
    "version": 3
   },
   "file_extension": ".py",
   "mimetype": "text/x-python",
   "name": "python",
   "nbconvert_exporter": "python",
   "pygments_lexer": "ipython3",
   "version": "3.10.12"
  }
 },
 "nbformat": 4,
 "nbformat_minor": 5
}
